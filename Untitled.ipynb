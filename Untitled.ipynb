{
 "cells": [
  {
   "cell_type": "code",
   "execution_count": 1,
   "id": "f1d0b625-45ea-4efb-a49d-baef9fe70e77",
   "metadata": {},
   "outputs": [],
   "source": [
    "import networks\n",
    "from env import train\n",
    "import torch"
   ]
  },
  {
   "cell_type": "code",
   "execution_count": null,
   "id": "67022f3e-1efa-49ca-8d19-026c0eae0bea",
   "metadata": {},
   "outputs": [
    {
     "name": "stdout",
     "output_type": "stream",
     "text": [
      "time steps: 10000 / 5000000\n",
      "average reward: 198.3000005673617 average time: 180.5 best_reward: 410.80000111460686\n",
      "time steps: 20000 / 5000000\n",
      "average reward: 243.70500049181283 average time: 212.1 best_reward: 415.70000007748604\n",
      "time steps: 30000 / 5000000\n",
      "average reward: 223.65500051006674 average time: 142.0 best_reward: 442.40000181645155\n",
      "time steps: 40000 / 5000000\n",
      "average reward: 227.03500074371695 average time: 127.3 best_reward: 420.9000013321638\n",
      "GOAL\n",
      "GOAL\n",
      "time steps: 50000 / 5000000\n",
      "average reward: 254.1600005824119 average time: 128.4 best_reward: 985.3000000268221\n",
      "GOAL\n",
      "GOAL\n",
      "time steps: 60000 / 5000000\n",
      "average reward: 226.9450004734099 average time: 124.05 best_reward: 574.5000006705523\n",
      "time steps: 70000 / 5000000\n",
      "average reward: 237.52500086762012 average time: 128.6 best_reward: 491.0000013336539\n",
      "time steps: 80000 / 5000000\n",
      "average reward: 226.84500068426132 average time: 120.8 best_reward: 528.1000023037195\n"
     ]
    }
   ],
   "source": [
    "train('./train_test_reward_annealing', activation_function = torch.nn.Tanh, orthagonal_init=True, grad_norm = 0.5, annealing = True)"
   ]
  },
  {
   "cell_type": "code",
   "execution_count": null,
   "id": "9ccb777a-704d-4fac-be8f-d45e44226950",
   "metadata": {},
   "outputs": [],
   "source": [
    "train('./train_test_value_clip', activation_function = torch.nn.Tanh, orthagonal_init=True, grad_norm = 0.5, value_clip = 0.2)"
   ]
  },
  {
   "cell_type": "code",
   "execution_count": null,
   "id": "8ad54c9c-948b-40d2-908d-2c6aceeaf9c5",
   "metadata": {},
   "outputs": [],
   "source": [
    "train('./train_test_reward_reward_scaling', activation_function = torch.nn.Tanh, orthagonal_init=True, grad_norm = 0.5, reward_scaling = True)"
   ]
  }
 ],
 "metadata": {
  "kernelspec": {
   "display_name": "Python 3 (ipykernel)",
   "language": "python",
   "name": "python3"
  },
  "language_info": {
   "codemirror_mode": {
    "name": "ipython",
    "version": 3
   },
   "file_extension": ".py",
   "mimetype": "text/x-python",
   "name": "python",
   "nbconvert_exporter": "python",
   "pygments_lexer": "ipython3",
   "version": "3.8.18"
  }
 },
 "nbformat": 4,
 "nbformat_minor": 5
}
